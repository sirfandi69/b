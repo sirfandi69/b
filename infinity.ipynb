{
 "cells": [
  {
   "cell_type": "markdown",
   "metadata": {},
   "source": [
    "# Check hardware"
   ]
  },
  {
   "cell_type": "code",
   "execution_count": null,
   "metadata": {
    "cellView": "form",
    "id": "gWMx7MCMCpdF"
   },
   "outputs": [],
   "source": [
    "!nproc && nvidia-smi -L"
   ]
  },
  {
   "cell_type": "markdown",
   "metadata": {},
   "source": [
    "# Start"
   ]
  },
  {
   "cell_type": "code",
   "execution_count": null,
   "metadata": {
    "cellView": "form",
    "id": "Ct3wh-ueW1Qz"
   },
   "outputs": [],
   "source": [
    "import time \n",
    "from IPython.display import clear_output \n",
    " \n",
    "def zero_to_infinity(): \n",
    "    i = 0 \n",
    "    while True: \n",
    "        yield i \n",
    "        i += 1 \n",
    "        time.sleep(1) \n",
    " \n",
    "start = time.time() \n",
    "for x in zero_to_infinity(): \n",
    "    clear_output(wait=True) \n",
    "    end = time.time() \n",
    "    temp = end-start \n",
    "    hours = temp//3600 \n",
    "    temp = temp - 3600*hours \n",
    "    minutes = temp//60 \n",
    "    seconds = temp - 60*minutes \n",
    "    print(\"\") \n",
    "    print('%s %d:%d:%d' %(\"Time execution : \",hours,minutes,seconds)) \n",
    "    print(\"\")"
   ]
  }
 ],
 "metadata": {
  "accelerator": "GPU",
  "colab": {
   "collapsed_sections": [],
   "name": "Puasa2.ipynb",
   "private_outputs": true,
   "provenance": []
  },
  "kernelspec": {
   "display_name": "Python 3",
   "language": "python",
   "name": "python3"
  },
  "language_info": {
   "codemirror_mode": {
    "name": "ipython",
    "version": 3
   },
   "file_extension": ".py",
   "mimetype": "text/x-python",
   "name": "python",
   "nbconvert_exporter": "python",
   "pygments_lexer": "ipython3",
   "version": "3.7.3"
  }
 },
 "nbformat": 4,
 "nbformat_minor": 1
}
